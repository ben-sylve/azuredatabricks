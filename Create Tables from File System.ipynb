{
 "cells": [
  {
   "cell_type": "code",
   "execution_count": 0,
   "metadata": {
    "application/vnd.databricks.v1+cell": {
     "cellMetadata": {
      "byteLimit": 2048000,
      "rowLimit": 10000
     },
     "inputWidgets": {},
     "nuid": "ee869ff4-6df6-4f10-a72e-ce49033d4642",
     "showTitle": false,
     "tableResultSettingsMap": {},
     "title": ""
    }
   },
   "outputs": [],
   "source": [
    "from pyspark.sql import SparkSession\n",
    "\n",
    "# Start Spark Session\n",
    "spark = SparkSession.builder.getOrCreate()\n",
    "\n",
    "# Path to your DBFS folder\n",
    "folder_path = \"dbfs:/FileStore/Learning/\"\n",
    "\n",
    "# List files in the folder\n",
    "files = [file.name for file in dbutils.fs.ls(folder_path)]\n",
    "\n",
    "# Loop through the files and create a table with each file name\n",
    "for file in files:\n",
    "    file_path = folder_path + file\n",
    "    \n",
    "    # Extract the file name without extension to use as table name\n",
    "    table_name = file.split('.')[0]  # Removes the file extension, e.g., \"file_name.csv\" -> \"file_name\"\n",
    "    \n",
    "    # Read the file into a DataFrame\n",
    "    df = spark.read.format(\"csv\") \\\n",
    "        .option(\"header\", \"true\") \\\n",
    "        .option(\"inferSchema\", \"true\") \\\n",
    "        .load(file_path)\n",
    "    \n",
    "    # Write the DataFrame as a Delta table with the file name as the table name\n",
    "    df.write.format(\"delta\") \\\n",
    "        .mode(\"overwrite\") \\\n",
    "        .saveAsTable(table_name)\n",
    "\n",
    "    print(f\"Table '{table_name}' created successfully.\")\n",
    "\n",
    "spark.stop()"
   ]
  }
 ],
 "metadata": {
  "application/vnd.databricks.v1+notebook": {
   "computePreferences": null,
   "dashboards": [],
   "environmentMetadata": {
    "base_environment": "",
    "environment_version": "2"
   },
   "language": "python",
   "notebookMetadata": {
    "pythonIndentUnit": 4
   },
   "notebookName": "Create Tables from File System",
   "widgets": {}
  },
  "language_info": {
   "name": "python"
  }
 },
 "nbformat": 4,
 "nbformat_minor": 0
}
